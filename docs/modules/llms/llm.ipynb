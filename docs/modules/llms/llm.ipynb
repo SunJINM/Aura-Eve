{
 "cells": [
  {
   "cell_type": "code",
   "execution_count": 1,
   "metadata": {},
   "outputs": [],
   "source": [
    "from lib.llms.ollama import Ollama\n",
    "from lib.llms.zhipuai import ZhiPuAI"
   ]
  },
  {
   "cell_type": "code",
   "execution_count": 2,
   "metadata": {},
   "outputs": [
    {
     "data": {
      "text/plain": [
       "LLMResult(generations=[[Generation(text='你好！很高兴能为你提供帮助。有什么问题或需要咨询的吗？', generation_info={'finish_reason': 'stop'})]], llm_output={'model_name': 'qwen2:7b'})"
      ]
     },
     "execution_count": 2,
     "metadata": {},
     "output_type": "execute_result"
    }
   ],
   "source": [
    "ollama = Ollama()\n",
    "ollama.generate([\"你好\"])"
   ]
  },
  {
   "cell_type": "code",
   "execution_count": 3,
   "metadata": {},
   "outputs": [
    {
     "data": {
      "text/plain": [
       "LLMResult(generations=[[Generation(text='你好👋！我是人工智能助手智谱清言，可以叫我小智🤖，很高兴见到你，欢迎问我任何问题。', generation_info={'finish_reason': 'stop'})]], llm_output={'token_usage': {}, 'model_name': 'glm-4'})"
      ]
     },
     "execution_count": 3,
     "metadata": {},
     "output_type": "execute_result"
    }
   ],
   "source": [
    "zhipu = ZhiPuAI()\n",
    "zhipu.generate([\"你好\"])"
   ]
  },
  {
   "cell_type": "code",
   "execution_count": 5,
   "metadata": {},
   "outputs": [
    {
     "name": "stdout",
     "output_type": "stream",
     "text": [
      "model='qwen2:7b' created_at='2024-12-09T11:55:06.4992221Z' done=False done_reason=None total_duration=None load_duration=None prompt_eval_count=None prompt_eval_duration=None eval_count=None eval_duration=None message=Message(role='assistant', content='你好', images=None, tool_calls=None)\n",
      "model='qwen2:7b' created_at='2024-12-09T11:55:06.5190629Z' done=False done_reason=None total_duration=None load_duration=None prompt_eval_count=None prompt_eval_duration=None eval_count=None eval_duration=None message=Message(role='assistant', content='！', images=None, tool_calls=None)\n",
      "model='qwen2:7b' created_at='2024-12-09T11:55:06.540347Z' done=False done_reason=None total_duration=None load_duration=None prompt_eval_count=None prompt_eval_duration=None eval_count=None eval_duration=None message=Message(role='assistant', content='很高兴', images=None, tool_calls=None)\n",
      "model='qwen2:7b' created_at='2024-12-09T11:55:06.5583639Z' done=False done_reason=None total_duration=None load_duration=None prompt_eval_count=None prompt_eval_duration=None eval_count=None eval_duration=None message=Message(role='assistant', content='为你', images=None, tool_calls=None)\n",
      "model='qwen2:7b' created_at='2024-12-09T11:55:06.5783815Z' done=False done_reason=None total_duration=None load_duration=None prompt_eval_count=None prompt_eval_duration=None eval_count=None eval_duration=None message=Message(role='assistant', content='提供', images=None, tool_calls=None)\n",
      "model='qwen2:7b' created_at='2024-12-09T11:55:06.5983817Z' done=False done_reason=None total_duration=None load_duration=None prompt_eval_count=None prompt_eval_duration=None eval_count=None eval_duration=None message=Message(role='assistant', content='帮助', images=None, tool_calls=None)\n",
      "model='qwen2:7b' created_at='2024-12-09T11:55:06.6182518Z' done=False done_reason=None total_duration=None load_duration=None prompt_eval_count=None prompt_eval_duration=None eval_count=None eval_duration=None message=Message(role='assistant', content='。', images=None, tool_calls=None)\n",
      "model='qwen2:7b' created_at='2024-12-09T11:55:06.6376877Z' done=False done_reason=None total_duration=None load_duration=None prompt_eval_count=None prompt_eval_duration=None eval_count=None eval_duration=None message=Message(role='assistant', content='有什么', images=None, tool_calls=None)\n",
      "model='qwen2:7b' created_at='2024-12-09T11:55:06.6571583Z' done=False done_reason=None total_duration=None load_duration=None prompt_eval_count=None prompt_eval_duration=None eval_count=None eval_duration=None message=Message(role='assistant', content='我可以', images=None, tool_calls=None)\n",
      "model='qwen2:7b' created_at='2024-12-09T11:55:06.6767872Z' done=False done_reason=None total_duration=None load_duration=None prompt_eval_count=None prompt_eval_duration=None eval_count=None eval_duration=None message=Message(role='assistant', content='为你', images=None, tool_calls=None)\n",
      "model='qwen2:7b' created_at='2024-12-09T11:55:06.6964858Z' done=False done_reason=None total_duration=None load_duration=None prompt_eval_count=None prompt_eval_duration=None eval_count=None eval_duration=None message=Message(role='assistant', content='做的', images=None, tool_calls=None)\n",
      "model='qwen2:7b' created_at='2024-12-09T11:55:06.7163272Z' done=False done_reason=None total_duration=None load_duration=None prompt_eval_count=None prompt_eval_duration=None eval_count=None eval_duration=None message=Message(role='assistant', content='吗', images=None, tool_calls=None)\n",
      "model='qwen2:7b' created_at='2024-12-09T11:55:06.7365317Z' done=False done_reason=None total_duration=None load_duration=None prompt_eval_count=None prompt_eval_duration=None eval_count=None eval_duration=None message=Message(role='assistant', content='？', images=None, tool_calls=None)\n",
      "model='qwen2:7b' created_at='2024-12-09T11:55:06.7579523Z' done=True done_reason='stop' total_duration=632536300 load_duration=23160200 prompt_eval_count=20 prompt_eval_duration=3000000 eval_count=14 eval_duration=605000000 message=Message(role='assistant', content='', images=None, tool_calls=None)\n"
     ]
    }
   ],
   "source": [
    "generator = ollama.stream(\"你好\")\n",
    "for g in generator:\n",
    "    print(g)"
   ]
  },
  {
   "cell_type": "code",
   "execution_count": 6,
   "metadata": {},
   "outputs": [
    {
     "name": "stdout",
     "output_type": "stream",
     "text": [
      "ChatCompletionChunk(id='2024120919555803c5915f392e4f69', choices=[Choice(delta=ChoiceDelta(content='你好', role='assistant', tool_calls=None), finish_reason=None, index=0)], created=1733745358, model='glm-4', usage=None, extra_json=None)\n",
      "ChatCompletionChunk(id='2024120919555803c5915f392e4f69', choices=[Choice(delta=ChoiceDelta(content='👋！', role='assistant', tool_calls=None), finish_reason=None, index=0)], created=1733745358, model='glm-4', usage=None, extra_json=None)\n",
      "ChatCompletionChunk(id='2024120919555803c5915f392e4f69', choices=[Choice(delta=ChoiceDelta(content='我是', role='assistant', tool_calls=None), finish_reason=None, index=0)], created=1733745358, model='glm-4', usage=None, extra_json=None)\n",
      "ChatCompletionChunk(id='2024120919555803c5915f392e4f69', choices=[Choice(delta=ChoiceDelta(content='人工智能', role='assistant', tool_calls=None), finish_reason=None, index=0)], created=1733745358, model='glm-4', usage=None, extra_json=None)\n",
      "ChatCompletionChunk(id='2024120919555803c5915f392e4f69', choices=[Choice(delta=ChoiceDelta(content='助手', role='assistant', tool_calls=None), finish_reason=None, index=0)], created=1733745358, model='glm-4', usage=None, extra_json=None)\n",
      "ChatCompletionChunk(id='2024120919555803c5915f392e4f69', choices=[Choice(delta=ChoiceDelta(content='智', role='assistant', tool_calls=None), finish_reason=None, index=0)], created=1733745358, model='glm-4', usage=None, extra_json=None)\n",
      "ChatCompletionChunk(id='2024120919555803c5915f392e4f69', choices=[Choice(delta=ChoiceDelta(content='谱', role='assistant', tool_calls=None), finish_reason=None, index=0)], created=1733745358, model='glm-4', usage=None, extra_json=None)\n",
      "ChatCompletionChunk(id='2024120919555803c5915f392e4f69', choices=[Choice(delta=ChoiceDelta(content='清', role='assistant', tool_calls=None), finish_reason=None, index=0)], created=1733745358, model='glm-4', usage=None, extra_json=None)\n",
      "ChatCompletionChunk(id='2024120919555803c5915f392e4f69', choices=[Choice(delta=ChoiceDelta(content='言', role='assistant', tool_calls=None), finish_reason=None, index=0)], created=1733745358, model='glm-4', usage=None, extra_json=None)\n",
      "ChatCompletionChunk(id='2024120919555803c5915f392e4f69', choices=[Choice(delta=ChoiceDelta(content='，', role='assistant', tool_calls=None), finish_reason=None, index=0)], created=1733745358, model='glm-4', usage=None, extra_json=None)\n",
      "ChatCompletionChunk(id='2024120919555803c5915f392e4f69', choices=[Choice(delta=ChoiceDelta(content='可以', role='assistant', tool_calls=None), finish_reason=None, index=0)], created=1733745358, model='glm-4', usage=None, extra_json=None)\n",
      "ChatCompletionChunk(id='2024120919555803c5915f392e4f69', choices=[Choice(delta=ChoiceDelta(content='叫我', role='assistant', tool_calls=None), finish_reason=None, index=0)], created=1733745358, model='glm-4', usage=None, extra_json=None)\n",
      "ChatCompletionChunk(id='2024120919555803c5915f392e4f69', choices=[Choice(delta=ChoiceDelta(content='小', role='assistant', tool_calls=None), finish_reason=None, index=0)], created=1733745358, model='glm-4', usage=None, extra_json=None)\n",
      "ChatCompletionChunk(id='2024120919555803c5915f392e4f69', choices=[Choice(delta=ChoiceDelta(content='智', role='assistant', tool_calls=None), finish_reason=None, index=0)], created=1733745358, model='glm-4', usage=None, extra_json=None)\n",
      "ChatCompletionChunk(id='2024120919555803c5915f392e4f69', choices=[Choice(delta=ChoiceDelta(content='🤖，', role='assistant', tool_calls=None), finish_reason=None, index=0)], created=1733745358, model='glm-4', usage=None, extra_json=None)\n",
      "ChatCompletionChunk(id='2024120919555803c5915f392e4f69', choices=[Choice(delta=ChoiceDelta(content='很高兴', role='assistant', tool_calls=None), finish_reason=None, index=0)], created=1733745358, model='glm-4', usage=None, extra_json=None)\n",
      "ChatCompletionChunk(id='2024120919555803c5915f392e4f69', choices=[Choice(delta=ChoiceDelta(content='见到', role='assistant', tool_calls=None), finish_reason=None, index=0)], created=1733745358, model='glm-4', usage=None, extra_json=None)\n",
      "ChatCompletionChunk(id='2024120919555803c5915f392e4f69', choices=[Choice(delta=ChoiceDelta(content='你', role='assistant', tool_calls=None), finish_reason=None, index=0)], created=1733745358, model='glm-4', usage=None, extra_json=None)\n",
      "ChatCompletionChunk(id='2024120919555803c5915f392e4f69', choices=[Choice(delta=ChoiceDelta(content='，', role='assistant', tool_calls=None), finish_reason=None, index=0)], created=1733745358, model='glm-4', usage=None, extra_json=None)\n",
      "ChatCompletionChunk(id='2024120919555803c5915f392e4f69', choices=[Choice(delta=ChoiceDelta(content='欢迎', role='assistant', tool_calls=None), finish_reason=None, index=0)], created=1733745358, model='glm-4', usage=None, extra_json=None)\n",
      "ChatCompletionChunk(id='2024120919555803c5915f392e4f69', choices=[Choice(delta=ChoiceDelta(content='问我', role='assistant', tool_calls=None), finish_reason=None, index=0)], created=1733745358, model='glm-4', usage=None, extra_json=None)\n",
      "ChatCompletionChunk(id='2024120919555803c5915f392e4f69', choices=[Choice(delta=ChoiceDelta(content='任何', role='assistant', tool_calls=None), finish_reason=None, index=0)], created=1733745358, model='glm-4', usage=None, extra_json=None)\n",
      "ChatCompletionChunk(id='2024120919555803c5915f392e4f69', choices=[Choice(delta=ChoiceDelta(content='问题', role='assistant', tool_calls=None), finish_reason=None, index=0)], created=1733745358, model='glm-4', usage=None, extra_json=None)\n",
      "ChatCompletionChunk(id='2024120919555803c5915f392e4f69', choices=[Choice(delta=ChoiceDelta(content='。', role='assistant', tool_calls=None), finish_reason=None, index=0)], created=1733745358, model='glm-4', usage=None, extra_json=None)\n",
      "ChatCompletionChunk(id='2024120919555803c5915f392e4f69', choices=[Choice(delta=ChoiceDelta(content='', role='assistant', tool_calls=None), finish_reason='stop', index=0)], created=1733745358, model='glm-4', usage=CompletionUsage(prompt_tokens=6, completion_tokens=32, total_tokens=38), extra_json=None)\n"
     ]
    }
   ],
   "source": [
    "generator = zhipu.stream(\"你好\")\n",
    "for g in generator:\n",
    "    print(g)"
   ]
  }
 ],
 "metadata": {
  "kernelspec": {
   "display_name": "lcl",
   "language": "python",
   "name": "python3"
  },
  "language_info": {
   "codemirror_mode": {
    "name": "ipython",
    "version": 3
   },
   "file_extension": ".py",
   "mimetype": "text/x-python",
   "name": "python",
   "nbconvert_exporter": "python",
   "pygments_lexer": "ipython3",
   "version": "3.10.0"
  }
 },
 "nbformat": 4,
 "nbformat_minor": 2
}
