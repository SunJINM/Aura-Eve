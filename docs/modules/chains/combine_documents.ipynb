{
 "cells": [
  {
   "cell_type": "code",
   "execution_count": 1,
   "metadata": {},
   "outputs": [],
   "source": [
    "from eve.prompts.prompt import PromptTemplate\n",
    "from eve.schema import Document\n",
    "from eve.chains import LLMChain, StuffDocumentsChain\n",
    "from eve.chat_models import ChatZhiPuAI"
   ]
  },
  {
   "cell_type": "code",
   "execution_count": 7,
   "metadata": {},
   "outputs": [],
   "source": [
    "template = \"\"\" 请根据以下内容，回答问题。如果没有找到相关内容，请回答 \"不知道\"。\n",
    "    ---------\n",
    "    {input_documents}\n",
    "    ---------\n",
    "    问题：{question}\n",
    "    --------\n",
    "    回答：\"\"\"\n",
    "prompt = PromptTemplate(input_variables=[\"input_documents\", \"question\"], template=template)\n",
    "\n",
    "docs = [\n",
    "    Document(page_content=\"最近，科技巨头XYZ公司发布了一款新的智能手机，该手机采用了最先进的5G技术，配备了高性能的处理器和超长续航的电池。这款手机还引入了创新的摄像头系统，使得摄影爱好者可以轻松捕捉高质量的照片和视频。此外，该手机还提供了增强现实（AR）体验，为用户带来了前所未有的互动体验。\"),\n",
    "    Document(page_content=\"保持健康的饮食习惯和规律的锻炼对于维持良好的身体状态至关重要。专家建议每天至少进行30分钟的中等强度运动，如快走、游泳或骑自行车。同时，应该确保饮食中包含足够的蔬菜、水果和全谷物，减少糖分和饱和脂肪的摄入。定期体检也是预防疾病的关键步骤。\"),\n",
    "    Document(page_content=\"在线教育平台正在改变我们学习的方式。无论是希望通过MOOC课程提高职业技能，还是通过远程辅导课程学习新语言，互联网都提供了丰富的学习资源。这些平台通常提供灵活的学习时间表和互动的学习体验，使得学习更加便捷和高效。选择合适的在线课程可以帮助您实现个人和职业发展目标。\")\n",
    "]"
   ]
  },
  {
   "cell_type": "code",
   "execution_count": 9,
   "metadata": {},
   "outputs": [
    {
     "data": {
      "text/plain": [
       "'保持健康的饮食习惯和规律的锻炼对于维持良好的身体状态至关重要。专家建议每天至少进行30分钟的中等强度运动，如快走、游泳或骑自行车。同时，应该确保饮食中包含足够的蔬菜、水果和全谷物，减少糖分和饱和脂肪的摄入。定期体检也是预防疾病的关键步骤。'"
      ]
     },
     "execution_count": 9,
     "metadata": {},
     "output_type": "execute_result"
    }
   ],
   "source": [
    "llm_chain = LLMChain(prompt=prompt, llm=ChatZhiPuAI())\n",
    "chain = StuffDocumentsChain(llm_chain=llm_chain, document_variable_name=\"input_documents\")\n",
    "chain({\"input_documents\": docs, \"question\": \"明天天气如何？\"})\n",
    "chain.combine_docs(docs, **{\"question\": \"如何维持良好的身体状态？\"})"
   ]
  }
 ],
 "metadata": {
  "kernelspec": {
   "display_name": "lcl",
   "language": "python",
   "name": "python3"
  },
  "language_info": {
   "codemirror_mode": {
    "name": "ipython",
    "version": 3
   },
   "file_extension": ".py",
   "mimetype": "text/x-python",
   "name": "python",
   "nbconvert_exporter": "python",
   "pygments_lexer": "ipython3",
   "version": "3.10.0"
  }
 },
 "nbformat": 4,
 "nbformat_minor": 2
}
