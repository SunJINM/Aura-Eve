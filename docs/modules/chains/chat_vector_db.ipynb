{
 "cells": [
  {
   "cell_type": "code",
   "execution_count": 1,
   "metadata": {},
   "outputs": [],
   "source": [
    "from eve.chains import ChatVectorDBChain\n",
    "from eve.chat_models import ChatZhiPuAI\n",
    "from eve.vectorstores import FAISS\n",
    "from eve.embeddings import HuggingFaceEmbeddings\n",
    "from eve.schema import Document"
   ]
  },
  {
   "cell_type": "code",
   "execution_count": 2,
   "metadata": {},
   "outputs": [
    {
     "name": "stderr",
     "output_type": "stream",
     "text": [
      "d:\\AppHome\\anaconda3\\envs\\lcl\\lib\\site-packages\\sentence_transformers\\cross_encoder\\CrossEncoder.py:13: TqdmExperimentalWarning: Using `tqdm.autonotebook.tqdm` in notebook mode. Use `tqdm.tqdm` instead to force console mode (e.g. in jupyter console)\n",
      "  from tqdm.autonotebook import tqdm, trange\n"
     ]
    },
    {
     "data": {
      "text/plain": [
       "[Document(page_content='保持健康的饮食习惯和规律的锻炼对于维持良好的身体状态至关重要。专家建议每天至少进行30分钟的中等强度运动，如快走、游泳或骑自行车。同时，应该确保饮食中包含足够的蔬菜、水果和全谷物，减少糖分和饱和脂肪的摄入。定期体检也是预防疾病的关键步骤。', metadata={}),\n",
       " Document(page_content='在线教育平台正在改变我们学习的方式。无论是希望通过MOOC课程提高职业技能，还是通过远程辅导课程学习新语言，互联网都提供了丰富的学习资源。这些平台通常提供灵活的学习时间表和互动的学习体验，使得学习更加便捷和高效。选择合适的在线课程可以帮助您实现个人和职业发展目标。', metadata={})]"
      ]
     },
     "execution_count": 2,
     "metadata": {},
     "output_type": "execute_result"
    }
   ],
   "source": [
    "docs = [\n",
    "    Document(page_content=\"最近，科技巨头XYZ公司发布了一款新的智能手机，该手机采用了最先进的5G技术，配备了高性能的处理器和超长续航的电池。这款手机还引入了创新的摄像头系统，使得摄影爱好者可以轻松捕捉高质量的照片和视频。此外，该手机还提供了增强现实（AR）体验，为用户带来了前所未有的互动体验。\"),\n",
    "    Document(page_content=\"保持健康的饮食习惯和规律的锻炼对于维持良好的身体状态至关重要。专家建议每天至少进行30分钟的中等强度运动，如快走、游泳或骑自行车。同时，应该确保饮食中包含足够的蔬菜、水果和全谷物，减少糖分和饱和脂肪的摄入。定期体检也是预防疾病的关键步骤。\"),\n",
    "    Document(page_content=\"在线教育平台正在改变我们学习的方式。无论是希望通过MOOC课程提高职业技能，还是通过远程辅导课程学习新语言，互联网都提供了丰富的学习资源。这些平台通常提供灵活的学习时间表和互动的学习体验，使得学习更加便捷和高效。选择合适的在线课程可以帮助您实现个人和职业发展目标。\")\n",
    "]\n",
    "embedding = HuggingFaceEmbeddings()\n",
    "faiss = FAISS.from_documents(docs, embedding=embedding)\n",
    "faiss.similarity_search(\"什么对于维持良好身体状态很重要？\", k=2)"
   ]
  },
  {
   "cell_type": "code",
   "execution_count": 4,
   "metadata": {},
   "outputs": [
    {
     "name": "stdout",
     "output_type": "stream",
     "text": [
      "\n",
      "Human: 你好\n",
      "Assistant: 你好\n"
     ]
    },
    {
     "data": {
      "text/plain": [
       "'保持健康的饮食习惯和规律的锻炼对于维持良好的身体状态至关重要。此外，定期体检也是预防疾病的关键步骤。具体来说，包括每天至少进行30分钟的中等强度运动，如快走、游泳或骑自行车，并确保饮食中包含足够的蔬菜、水果和全谷物，同时减少糖分和饱和脂肪的摄入。'"
      ]
     },
     "execution_count": 4,
     "metadata": {},
     "output_type": "execute_result"
    }
   ],
   "source": [
    "chain = ChatVectorDBChain.from_llm(ChatZhiPuAI(), faiss)\n",
    "chain.run(question=\"什么对于维持良好身体状态很重要？\", chat_history=[(\"你好\", \"你好\")])"
   ]
  }
 ],
 "metadata": {
  "kernelspec": {
   "display_name": "lcl",
   "language": "python",
   "name": "python3"
  },
  "language_info": {
   "codemirror_mode": {
    "name": "ipython",
    "version": 3
   },
   "file_extension": ".py",
   "mimetype": "text/x-python",
   "name": "python",
   "nbconvert_exporter": "python",
   "pygments_lexer": "ipython3",
   "version": "3.10.0"
  }
 },
 "nbformat": 4,
 "nbformat_minor": 2
}
