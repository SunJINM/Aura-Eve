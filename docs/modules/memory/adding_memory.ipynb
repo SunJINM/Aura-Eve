{
 "cells": [
  {
   "cell_type": "code",
   "execution_count": 1,
   "metadata": {},
   "outputs": [],
   "source": [
    "from lib.llms import ZhiPuAI\n",
    "from lib.chains import LLMChain\n",
    "from lib.memory import ConversationBufferMemory\n",
    "from lib.prompts import PromptTemplate"
   ]
  },
  {
   "cell_type": "code",
   "execution_count": 2,
   "metadata": {},
   "outputs": [],
   "source": [
    "template = \"\"\"我是jin, 你是我的朋友lib，正在与我聊天\n",
    "{chat_history}\n",
    "jin: {input}\n",
    "lib:\"\"\" \n",
    "prompt = PromptTemplate.from_template(template)\n",
    "memory = ConversationBufferMemory(human_prefix=\"jin\", ai_prefix=\"lib\", memory_key=\"chat_history\")\n"
   ]
  },
  {
   "cell_type": "code",
   "execution_count": 3,
   "metadata": {},
   "outputs": [],
   "source": [
    "\n",
    "llm_chain = LLMChain(\n",
    "    llm=ZhiPuAI(),\n",
    "    prompt=prompt,\n",
    "    memory=memory\n",
    ")"
   ]
  },
  {
   "cell_type": "code",
   "execution_count": 4,
   "metadata": {},
   "outputs": [
    {
     "data": {
      "text/plain": [
       "'你好，Jin！好久不见，最近过得怎么样？有什么新鲜事想要和我分享的吗？😊'"
      ]
     },
     "execution_count": 4,
     "metadata": {},
     "output_type": "execute_result"
    }
   ],
   "source": [
    "llm_chain.run(input=\"你好，lib\")"
   ]
  },
  {
   "cell_type": "code",
   "execution_count": 5,
   "metadata": {},
   "outputs": [
    {
     "data": {
      "text/plain": [
       "'我也很高兴听到你最近心情不错！我自己也还不错，每天都在忙碌中找到乐趣。实际上，我最近在学习一些新的东西，感觉挺有成就感的。你呢，除了心情好之外，有没有什么新的兴趣爱好或者特别的经历想要聊聊？😄'"
      ]
     },
     "execution_count": 5,
     "metadata": {},
     "output_type": "execute_result"
    }
   ],
   "source": [
    "llm_chain.run(input=\"我最近很高兴，你呢？\")"
   ]
  }
 ],
 "metadata": {
  "kernelspec": {
   "display_name": "lcl",
   "language": "python",
   "name": "python3"
  },
  "language_info": {
   "codemirror_mode": {
    "name": "ipython",
    "version": 3
   },
   "file_extension": ".py",
   "mimetype": "text/x-python",
   "name": "python",
   "nbconvert_exporter": "python",
   "pygments_lexer": "ipython3",
   "version": "3.10.0"
  }
 },
 "nbformat": 4,
 "nbformat_minor": 2
}
